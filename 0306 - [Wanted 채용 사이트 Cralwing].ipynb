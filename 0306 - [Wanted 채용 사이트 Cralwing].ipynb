{
 "cells": [
  {
   "cell_type": "code",
   "execution_count": 36,
   "id": "41cf4ef8",
   "metadata": {},
   "outputs": [],
   "source": [
    "import csv\n",
    "import time \n",
    "from selenium import webdriver \n",
    "from bs4 import BeautifulSoup\n",
    "\n",
    "# csv 파일 생성 \n",
    "\n",
    "csv_file = open(\"wanted.csv\",\"w\",encoding=\"utf-8\")\n",
    "file = csv.writer(csv_file)\n",
    "\n",
    "#  헤더행 만들기\n",
    "\n",
    "file.writerow([\"Job_Position\",\"Company_name\"])\n",
    "\n",
    "\n",
    "driver = webdriver.Chrome()\n",
    "driver.implicitly_wait(3)\n",
    "\n",
    "driver.get('https://www.wanted.co.kr/wdlist?country=kr&job_sort=company.response_rate_order&years=-1&locations=all')\n",
    "time.sleep(3)\n",
    "\n",
    "last_height = driver.execute_script(\"return document.body.scrollHeight\")\n",
    "\n",
    "\n",
    "# 페이지 스크롤 \n",
    "while True:\n",
    "    driver.execute_script(\"window.scrollTo(0, document.body.scrollHeight);\")\n",
    "    time.sleep(0.5)\n",
    "\n",
    "    new_height = driver.execute_script(\"return document.body.scrollHeight\")\n",
    "    if new_height == last_height:\n",
    "        break\n",
    "    last_height = new_height\n",
    "    \n",
    "\n",
    "pages = driver.page_source\n",
    "driver.quit()\n",
    "\n",
    "soup = BeautifulSoup(pages, 'html.parser')\n",
    "\n",
    "jobs = soup.select(\"ul.clearfix li\")\n",
    "\n",
    "\n",
    "for job in jobs:\n",
    "    position = job.select_one(\"div.job-card-position\").get_text()\n",
    "    company = job.select_one(\"div.job-card-company-name\").get_text()     \n",
    "    file.writerow([position,company])\n",
    "    \n",
    "csv_file.close()"
   ]
  }
 ],
 "metadata": {
  "kernelspec": {
   "display_name": "Python 3",
   "language": "python",
   "name": "python3"
  },
  "language_info": {
   "codemirror_mode": {
    "name": "ipython",
    "version": 3
   },
   "file_extension": ".py",
   "mimetype": "text/x-python",
   "name": "python",
   "nbconvert_exporter": "python",
   "pygments_lexer": "ipython3",
   "version": "3.6.13"
  }
 },
 "nbformat": 4,
 "nbformat_minor": 5
}

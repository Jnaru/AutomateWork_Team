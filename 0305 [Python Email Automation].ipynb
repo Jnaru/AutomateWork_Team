{
 "cells": [
  {
   "cell_type": "code",
   "execution_count": 44,
   "id": "9e058484",
   "metadata": {},
   "outputs": [
    {
     "data": {
      "text/plain": [
       "'\\n\\n\\n\\nimport requests\\nfrom bs4 import BeautifulSoup as bs\\nfrom openpyxl import Workbook \\n\\n\\nwb = Workbook(write_only=True)\\nws = wb.create_sheet(\"email_list\")\\nws.append([\"name\",\"email\"])\\n\\n\\nwb.save(\"try.xlsx\")\\n'"
      ]
     },
     "execution_count": 44,
     "metadata": {},
     "output_type": "execute_result"
    }
   ],
   "source": [
    "# beatufiulsoup 으로 이메일 작성하고 .. \n",
    "'''\n",
    "\n",
    "\n",
    "\n",
    "import requests\n",
    "from bs4 import BeautifulSoup as bs\n",
    "from openpyxl import Workbook \n",
    "\n",
    "\n",
    "wb = Workbook(write_only=True)\n",
    "ws = wb.create_sheet(\"email_list\")\n",
    "ws.append([\"name\",\"email\"])\n",
    "\n",
    "\n",
    "wb.save(\"try.xlsx\")\n",
    "'''\n",
    "\n"
   ]
  },
  {
   "cell_type": "code",
   "execution_count": 67,
   "id": "61e48fa2",
   "metadata": {},
   "outputs": [],
   "source": [
    "import requests\n",
    "from bs4 import BeautifulSoup\n",
    "from openpyxl import Workbook\n",
    "from selenium import webdriver\n",
    "from selenium.webdriver.common.by import By\n",
    "from selenium.webdriver.support.ui import WebDriverWait\n",
    "from selenium.webdriver.support import expected_conditions as EC\n",
    "\n",
    "driver = webdriver.Chrome()\n",
    "driver.implicitly_wait(3)\n",
    "\n",
    "wait = WebDriverWait(driver, 3)\n",
    "\n",
    "driver.get(\"http://www.google.com\")\n",
    "\n",
    "# sing-in 링크 클릭 \n",
    "driver.find_element_by_css_selector('a.gb_2').click()\n",
    "time.sleep(2)\n",
    "\n",
    "# email주소 입력 \n",
    "driver.find_element_by_name(\"identifier\").send_keys(\"playdatamini\")\n",
    "driver.find_element_by_name(\"identifier\").send_keys(Keys.ENTER)\n",
    "\n",
    "# pwd 입력 \n",
    "driver.find_element_by_name(\"password\").send_keys(\"playdata1234\")\n",
    "driver.find_element_by_name(\"password\").send_keys(Keys.ENTER)\n",
    "\n",
    "### --- 로그인 완료 ---- ### \n",
    "\n",
    "\n",
    "### ---  메일을 써보자 --- ### \n",
    "\n",
    "# gmail 아이콘 클릭 \n",
    "# driver.find_element_by_css_selector(\"a.gb_d\").click()\n",
    "# page 전환이기 때문에 css 를 못 찾을 수도 있으니 wait를 넣어보았다.\n",
    "gmail_button = wait.until(EC.element_to_be_clickable((By.CSS_SELECTOR, \"a.gb_d\")))\n",
    "gmail_button.click()\n",
    "time.sleep(2)\n",
    "\n",
    "\n",
    "# 메일을 작성해보자 \n",
    "# compose는 iframe 안에 있기 때문에 iframe으로 우선 접근해야 한다. \n",
    "\n",
    "driver.find_element_by_css_selector(\"div.T-I.T-I-KE.L3\").click()\n",
    "time.sleep(3)\n",
    "\n",
    "recipients = driver.find_element_by_name(\"to\").send_keys(\"yunajoe@gmail.com\")\n",
    "titles = driver.find_element_by_name(\"subjectbox\").send_keys(\"HELLO\")\n",
    "contents = driver.find_element_by_css_selector(\"div.Am.Al.editable.LW-avf.tS-tW\").send_keys(\"좋은하루\")\n",
    "send = driver.find_element_by_css_selector(\"div.T-I.J-J5-Ji.aoO.v7.T-I-atl.L3\").click()"
   ]
  },
  {
   "cell_type": "code",
   "execution_count": 26,
   "id": "44e1282d",
   "metadata": {},
   "outputs": [],
   "source": [
    "# beaituflsoup을 이용하여 excel로 이메일 작성..하고 \n",
    "# sending은 다시 selenium?으로 하기 ?!\n"
   ]
  },
  {
   "cell_type": "code",
   "execution_count": 45,
   "id": "b376d71d",
   "metadata": {},
   "outputs": [
    {
     "name": "stdout",
     "output_type": "stream",
     "text": [
      "   name                   email\n",
      "0  yuna       yunajoe@gmail.com\n",
      "1  play  playdatamini@gamil.com\n"
     ]
    }
   ],
   "source": [
    "import pandas as pd \n",
    "\n",
    "data = pd.read_csv(\"C:\\\\Users\\\\Playdata\\\\Downloads\\\\example.csv\")\n",
    "print(data)\n",
    "\n"
   ]
  },
  {
   "cell_type": "code",
   "execution_count": 46,
   "id": "0fff603b",
   "metadata": {},
   "outputs": [
    {
     "name": "stdout",
     "output_type": "stream",
     "text": [
      "name                  yuna\n",
      "email    yunajoe@gmail.com\n",
      "Name: 0, dtype: object\n",
      "name                       play\n",
      "email    playdatamini@gamil.com\n",
      "Name: 1, dtype: object\n"
     ]
    }
   ],
   "source": [
    "for i in data.index:\n",
    "    print(data.loc[i])\n",
    "    "
   ]
  },
  {
   "cell_type": "code",
   "execution_count": 47,
   "id": "ed2fa569",
   "metadata": {},
   "outputs": [
    {
     "name": "stdout",
     "output_type": "stream",
     "text": [
      "name                  yuna\n",
      "email    yunajoe@gmail.com\n",
      "Name: 0, dtype: object\n",
      "\n",
      "name                       play\n",
      "email    playdatamini@gamil.com\n",
      "Name: 1, dtype: object\n",
      "\n"
     ]
    }
   ],
   "source": [
    "for i in data.index:\n",
    "    print(data.loc[i], end=\"\\n\\n\")\n",
    "    "
   ]
  },
  {
   "cell_type": "code",
   "execution_count": 48,
   "id": "7e151a7a",
   "metadata": {},
   "outputs": [
    {
     "name": "stdout",
     "output_type": "stream",
     "text": [
      "yuna\n",
      "\n",
      "play\n",
      "\n"
     ]
    }
   ],
   "source": [
    "for i in data.index:\n",
    "    print(data.loc[i][\"name\"], end=\"\\n\\n\")\n",
    "    "
   ]
  },
  {
   "cell_type": "code",
   "execution_count": null,
   "id": "cb8ab2fe",
   "metadata": {},
   "outputs": [],
   "source": []
  }
 ],
 "metadata": {
  "kernelspec": {
   "display_name": "Python 3",
   "language": "python",
   "name": "python3"
  },
  "language_info": {
   "codemirror_mode": {
    "name": "ipython",
    "version": 3
   },
   "file_extension": ".py",
   "mimetype": "text/x-python",
   "name": "python",
   "nbconvert_exporter": "python",
   "pygments_lexer": "ipython3",
   "version": "3.8.8"
  }
 },
 "nbformat": 4,
 "nbformat_minor": 5
}
